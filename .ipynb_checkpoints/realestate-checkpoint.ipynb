{
 "cells": [
  {
   "cell_type": "code",
   "execution_count": 1,
   "id": "db255e95-bdfc-4194-9523-198b9868d717",
   "metadata": {},
   "outputs": [],
   "source": [
    "import requests\n",
    "import pandas as pd\n",
    "from bs4 import BeautifulSoup"
   ]
  },
  {
   "cell_type": "code",
   "execution_count": 2,
   "id": "c447d122-76e3-46cb-b081-289953bbfa2e",
   "metadata": {},
   "outputs": [],
   "source": [
    "u = []\n",
    "responses = []\n",
    "start = 1;\n",
    "end = 400\n",
    "url = 'https://www.commonfloor.com/mumbai-property/for-sale?page=' #Getting data around 29754\n",
    "for i in range(start,end):  # using 10000(should be enough ig)\n",
    "    u.append(url+str(i))"
   ]
  },
  {
   "cell_type": "code",
   "execution_count": null,
   "id": "a9222352-ec08-4d2c-a4b6-79bb9c833d3f",
   "metadata": {},
   "outputs": [],
   "source": []
  },
  {
   "cell_type": "code",
   "execution_count": 4,
   "id": "32db3d4b-4456-4fff-bd8f-0218c6dbfeff",
   "metadata": {},
   "outputs": [],
   "source": [
    "responses = []\n",
    "for i in range(start,end):    \n",
    "    responses.append(requests.get(u[i-1]))\n",
    "docs = []\n",
    "for i in range(start,end):\n",
    "    docs.append(BeautifulSoup(responses[i-1].text,'html.parser'))\n",
    "containers = []\n",
    "for i in range(start,end):\n",
    "    container = docs[i-1].find_all('div',{'class': 'st_title'})\n",
    "    containers.append(container)    \n",
    "    "
   ]
  },
  {
   "cell_type": "code",
   "execution_count": null,
   "id": "99a36d86-32e8-417b-a726-dbf660e004f1",
   "metadata": {},
   "outputs": [],
   "source": []
  },
  {
   "cell_type": "code",
   "execution_count": 8,
   "id": "fe26a81e-3005-408d-ba03-2245b462fd3a",
   "metadata": {},
   "outputs": [],
   "source": [
    "base_url = 'https://www.commonfloor.com/'\n",
    "\n",
    "urls = []\n",
    "for i in range(start,end):\n",
    "    for j in range(len(containers[i-1])):\n",
    "        links = container[j].find_all('a',href=True)\n",
    "        link = container[j].find('a',href=True)\n",
    "        urls.append(base_url + link['href'])\n",
    "    "
   ]
  },
  {
   "cell_type": "code",
   "execution_count": 10,
   "id": "3877db89-3d2b-4668-9f98-02452015015d",
   "metadata": {},
   "outputs": [],
   "source": [
    "df = pd.DataFrame(urls)\n",
    "df.to_csv('urls.csv',index=None)"
   ]
  },
  {
   "cell_type": "code",
   "execution_count": 11,
   "id": "28dba490-9722-4d4a-a522-bd4ad4498e4c",
   "metadata": {},
   "outputs": [],
   "source": [
    "import requests\n",
    "from bs4 import BeautifulSoup\n",
    "import re\n"
   ]
  },
  {
   "cell_type": "code",
   "execution_count": null,
   "id": "ece1ff4c-baf9-4c6c-b164-959d800d5b6f",
   "metadata": {},
   "outputs": [],
   "source": [
    "REQUEST_THRESHOLD = 1500\n",
    "PAUSE_DURATION = 60\n",
    "request_counter = 0\n",
    "\n",
    "responses = []\n",
    "# urls = [\n",
    "#     'https://www.commonfloor.com//listing/-1-bhk-apartment-for-sale-in-kalyan-east-mumbai-at-ahmahf-empire/aqet8jdqwo80shmn',\n",
    "#     'https://www.commonfloor.com//listing/not-furnished-1-bhk-apartment-for-sale-in-chandivali-mumbai-at-sumer-life-casa/ebo3klfnw98wcvwh',\n",
    "#     'https://www.commonfloor.com//listing/-1-bhk-apartment-for-sale-in-andheri-west-mumbai-at-residential-apartment/5z2ghzlxc4g17130'\n",
    "\n",
    "# ]\n",
    "titles = []\n",
    "docs = []\n",
    "areas = []\n",
    "prices = []\n",
    "bedrooms_list = []\n",
    "bathrooms_list = []\n",
    "builtup_area_list = []\n",
    "carpet_area_list = []\n",
    "condition_list = []\n",
    "# subtitle_dvi[] = []\n",
    "\n",
    "# getting the html docs\n",
    "for i in range(len(urls)):\n",
    "    response = requests.get(urls[i])\n",
    "    responses.append(response)\n",
    "    doc = BeautifulSoup(responses[i].text,'html.parser')\n",
    "    # docs.append(doc)\n",
    "    # doc = BeautifulSoup(res.text,'html.parser')\n",
    "\n",
    "    # Scraping datas from docs\n",
    "    t_tags = doc.find('h1')\n",
    "    title = t_tags.text.split('Project: ')[0].strip()\n",
    "    titles.append(title)\n",
    "    titles[i] = re.sub(r'\\s+', ' ', titles[i]).strip()\n",
    "\n",
    "    \n",
    "    subtitle_div = doc.find('div',{'class': '_headsubtitle'})\n",
    "    if subtitle_div:\n",
    "        a_elements = subtitle_div.find_all('a', href=True)\n",
    "        \n",
    "        if(len(a_elements)==2):\n",
    "            area = a_elements[1].text\n",
    "        else:\n",
    "            area = a_elements[0].text\n",
    "        # locations.append(location)\n",
    "        areas.append(area)\n",
    "    # Getting the prices, builluparea(not carpet_area)\n",
    "    price_tags = doc.find('div',{'class': 'subfeatures'})\n",
    "    if price_tags:\n",
    "        price = price_tags.span.text.strip()\n",
    "        prices.append(price)\n",
    "        \n",
    "    area_tags = doc.find('ul',{'class': '_33'})\n",
    "    if area_tags:\n",
    "        builtup_area = area_tags.contents[1].span.text\n",
    "        builtup_area_list.append(builtup_area)\n",
    "        carpet_area = area_tags.contents[3].span.text\n",
    "        carpet_area_list.append(carpet_area)\n",
    "        bedrooms = area_tags.contents[7].span.text\n",
    "        bedrooms_list.append(bedrooms)\n",
    "        bathrooms = area_tags.contents[5].span.text\n",
    "        bathrooms_list.append(bathrooms)\n",
    "        condition = area_tags.contents[9].span.text\n",
    "        # condition = area_tags.contents[7].span.text\n",
    "        condition_list.append(condition)\n",
    "    request_counter+=1\n",
    "    \n",
    "    # Checking for threshold\n",
    "    if request_counter == REQUEST_THRESHOLD:\n",
    "        printf(\"Pausing for {PAUSE_DURATION}\")\n",
    "        time.sleep(PAUSE_DURATION)\n",
    "\n",
    "    #resetting the counter\n",
    "    request_counter=0 \n",
    "    "
   ]
  },
  {
   "cell_type": "code",
   "execution_count": 134,
   "id": "457d1184-6199-4c9c-b846-3deafae66bf7",
   "metadata": {},
   "outputs": [],
   "source": [
    "# df = pd.DataFrame(areas,prices,bedrooms_list,bathrooms_list,builtup_area_list)\n",
    "df = pd.DataFrame({\n",
    "    'title': titles,\n",
    "    'location': areas,\n",
    "    'bedroooms': bedrooms_list,\n",
    "    'bathrooms': bathrooms_list,\n",
    "    'carpet Area': carpet_area,\n",
    "    'Built Up Area': builtup_area_list,\n",
    "})"
   ]
  },
  {
   "cell_type": "code",
   "execution_count": null,
   "id": "251d4725-69cc-4594-bbe8-9817936cf04d",
   "metadata": {},
   "outputs": [],
   "source": []
  },
  {
   "cell_type": "code",
   "execution_count": 135,
   "id": "4dd11a7b-ed00-427c-8a11-aefabecf377d",
   "metadata": {},
   "outputs": [
    {
     "name": "stdout",
     "output_type": "stream",
     "text": [
      "Data saved to output.json\n"
     ]
    }
   ],
   "source": [
    "json_data=df.to_json(orient='records')\n",
    "file_path = 'output.json'\n",
    "with open(file_path, 'w') as file:\n",
    "    file.write(json_data)\n",
    "\n",
    "print(f'Data saved to {file_path}')\n",
    "\n"
   ]
  },
  {
   "cell_type": "code",
   "execution_count": null,
   "id": "45b8a346-03df-4be5-84a1-9372e620c880",
   "metadata": {},
   "outputs": [],
   "source": []
  }
 ],
 "metadata": {
  "kernelspec": {
   "display_name": "Python 3 (ipykernel)",
   "language": "python",
   "name": "python3"
  },
  "language_info": {
   "codemirror_mode": {
    "name": "ipython",
    "version": 3
   },
   "file_extension": ".py",
   "mimetype": "text/x-python",
   "name": "python",
   "nbconvert_exporter": "python",
   "pygments_lexer": "ipython3",
   "version": "3.11.6"
  }
 },
 "nbformat": 4,
 "nbformat_minor": 5
}
